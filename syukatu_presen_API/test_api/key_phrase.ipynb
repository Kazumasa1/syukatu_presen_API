{
 "cells": [
  {
   "cell_type": "code",
   "execution_count": 11,
   "id": "af29dadf-5901-49fd-af55-58bbeaf93b35",
   "metadata": {},
   "outputs": [
    {
     "name": "stdout",
     "output_type": "stream",
     "text": [
      "{\"id\":\"1234-1\",\"jsonrpc\":\"2.0\",\"result\":{\"phrases\":[{\"score\":100,\"text\":\"川柳\"},{\"score\":93,\"text\":\"浜名湖\"},{\"score\":82,\"text\":\"コンテスト\"}]}}\n"
     ]
    }
   ],
   "source": [
    "import APIKEY\n",
    "# import requests\n",
    "from urllib import request\n",
    "import json\n",
    "\n",
    "url = \"https://jlp.yahooapis.jp/KeyphraseService/V2/extract\"\n",
    "\n",
    "\n",
    "def post(query):\n",
    "    headers = {\n",
    "        \"Content-Type\": \"application/json\",\n",
    "        \"User-Agent\": \"Yahoo AppID: {}\".format(APIKEY.APIKEY),\n",
    "    }\n",
    "    param_dic = {\n",
    "      \"id\": \"1234-1\",\n",
    "      \"jsonrpc\" : \"2.0\",\n",
    "      \"method\" : \"jlp.keyphraseservice.extract\",\n",
    "      \"params\" : {\n",
    "        \"q\" : query\n",
    "      }\n",
    "    }\n",
    "    params = json.dumps(param_dic).encode()\n",
    "    req = request.Request(url, params, headers)\n",
    "    with request.urlopen(req) as res:\n",
    "        body = res.read()\n",
    "    return body.decode()\n",
    "\n",
    "response = post(\"浜名湖, 川柳コンテスト\")\n",
    "# response = post(\"詩性を表現しようとした口語作品※なんらかの賞を受賞された作品は不可\")\n",
    "print(response)"
   ]
  },
  {
   "cell_type": "code",
   "execution_count": 13,
   "id": "7bf0265a-77d3-413f-bd5a-33beecc927d2",
   "metadata": {},
   "outputs": [
    {
     "data": {
      "text/plain": [
       "'浜名湖'"
      ]
     },
     "execution_count": 13,
     "metadata": {},
     "output_type": "execute_result"
    }
   ],
   "source": [
    "text = \"浜名湖川柳コンテスト\"\n",
    "replaced_text = text.replace('川柳', '')\n",
    "replaced_text = replaced_text.replace('コンテスト', '')\n",
    "replaced_text"
   ]
  },
  {
   "cell_type": "code",
   "execution_count": null,
   "id": "90fdcd16-b6a1-4e29-9bb0-13aa66501b1c",
   "metadata": {},
   "outputs": [],
   "source": []
  }
 ],
 "metadata": {
  "kernelspec": {
   "display_name": "Python 3 (ipykernel)",
   "language": "python",
   "name": "python3"
  },
  "language_info": {
   "codemirror_mode": {
    "name": "ipython",
    "version": 3
   },
   "file_extension": ".py",
   "mimetype": "text/x-python",
   "name": "python",
   "nbconvert_exporter": "python",
   "pygments_lexer": "ipython3",
   "version": "3.9.7"
  }
 },
 "nbformat": 4,
 "nbformat_minor": 5
}
