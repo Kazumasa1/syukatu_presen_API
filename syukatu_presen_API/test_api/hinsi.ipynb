{
 "cells": [
  {
   "cell_type": "code",
   "execution_count": 1,
   "id": "c4a22716-acb3-417c-abb2-5854e685bef6",
   "metadata": {},
   "outputs": [
    {
     "name": "stdout",
     "output_type": "stream",
     "text": [
      "Requirement already satisfied: requests in /Users/genisshou/opt/anaconda3/lib/python3.9/site-packages (2.26.0)\n",
      "Requirement already satisfied: certifi>=2017.4.17 in /Users/genisshou/opt/anaconda3/lib/python3.9/site-packages (from requests) (2021.10.8)\n",
      "Requirement already satisfied: charset-normalizer~=2.0.0 in /Users/genisshou/opt/anaconda3/lib/python3.9/site-packages (from requests) (2.0.4)\n",
      "Requirement already satisfied: idna<4,>=2.5 in /Users/genisshou/opt/anaconda3/lib/python3.9/site-packages (from requests) (3.2)\n",
      "Requirement already satisfied: urllib3<1.27,>=1.21.1 in /Users/genisshou/opt/anaconda3/lib/python3.9/site-packages (from requests) (1.26.7)\n",
      "Note: you may need to restart the kernel to use updated packages.\n"
     ]
    }
   ],
   "source": [
    "pip install requests"
   ]
  },
  {
   "cell_type": "code",
   "execution_count": 18,
   "id": "02f6dee4-f16b-43e9-a082-cf1587caba0c",
   "metadata": {},
   "outputs": [],
   "source": [
    "import APIKEY"
   ]
  },
  {
   "cell_type": "code",
   "execution_count": 146,
   "id": "6508eb12-82fc-427e-85c7-b12c30c3323d",
   "metadata": {},
   "outputs": [
    {
     "data": {
      "text/plain": [
       "'<?xml version=\"1.0\" encoding=\"UTF-8\" ?><ResultSet xmlns:xsi=\"http://www.w3.org/2001/XMLSchema-instance\" xmlns=\"urn:yahoo:jp:jlp\" xsi:schemaLocation=\"urn:yahoo:jp:jlp https://jlp.yahooapis.jp/MAService/V1/parseResponse.xsd\"><ma_result><total_count>8</total_count><filtered_count>8</filtered_count><word_list><word><pos>名詞</pos></word><word><pos>助詞</pos></word><word><pos>名詞</pos></word><word><pos>助詞</pos></word><word><pos>動詞</pos></word><word><pos>名詞</pos></word><word><pos>助詞</pos></word><word><pos>名詞</pos></word></word_list></ma_result></ResultSet>'"
      ]
     },
     "execution_count": 146,
     "metadata": {},
     "output_type": "execute_result"
    }
   ],
   "source": [
    "import requests\n",
    "\n",
    "url = \"https://jlp.yahooapis.jp/MAService/V1/parse\"\n",
    "# pyaload = {\"key1\":\"value1\", \"key2\":\"value2\"}\n",
    "params = {\n",
    "    \"appid\": APIKEY.APIKEY,\n",
    "    \"sentence\": \"風に火をつける女の片えくぼ\",\n",
    "    # \"sentence\": \"浜名湖川柳コンテスト\",\n",
    "    # \"results\": \"uniq\",\n",
    "    \"response\": \"pos\",\n",
    "    # \"filter\": \"9|10\",\n",
    "}\n",
    "\n",
    "# r = requests.get(url)\n",
    "# r\n",
    "r = requests.get(url, params=params)\n",
    "xml = r.text\n",
    "xml"
   ]
  },
  {
   "cell_type": "code",
   "execution_count": 147,
   "id": "38862e9f-7a00-4fc6-a47a-5fe2ec53a26f",
   "metadata": {},
   "outputs": [],
   "source": [
    "from bs4 import BeautifulSoup\n",
    "\n",
    "soup = BeautifulSoup(r.text, 'html.parser')\n",
    "\n",
    "word = soup.find_all('pos')\n",
    "# word = soup.find_all('surface')"
   ]
  },
  {
   "cell_type": "code",
   "execution_count": 148,
   "id": "66d8a979-0215-45b2-90e4-b7f162446b00",
   "metadata": {},
   "outputs": [
    {
     "name": "stdout",
     "output_type": "stream",
     "text": [
      "名詞\n",
      "助詞\n",
      "名詞\n",
      "助詞\n",
      "動詞\n",
      "名詞\n",
      "助詞\n",
      "名詞\n"
     ]
    }
   ],
   "source": [
    "for text in range(len(word)):\n",
    "    print(word[text].text)"
   ]
  },
  {
   "cell_type": "code",
   "execution_count": 145,
   "id": "dc34012e-9fd6-434e-997e-aa1c568a17e5",
   "metadata": {},
   "outputs": [],
   "source": [
    "for text in range(len(word)):\n",
    "    print(word[text].text)"
   ]
  },
  {
   "cell_type": "code",
   "execution_count": 145,
   "id": "2b71f06b-6690-4aa9-8ff9-6ddc4befac24",
   "metadata": {},
   "outputs": [
    {
     "name": "stdout",
     "output_type": "stream",
     "text": [
      "名詞\n",
      "助詞\n",
      "名詞\n",
      "名詞\n",
      "助詞\n",
      "名詞\n",
      "名詞\n",
      "助詞\n",
      "動詞\n"
     ]
    }
   ],
   "source": []
  },
  {
   "cell_type": "code",
   "execution_count": 128,
   "id": "18b85eba-997c-401a-a08d-a9c6614db891",
   "metadata": {},
   "outputs": [
    {
     "name": "stdout",
     "output_type": "stream",
     "text": [
      "b'<?xml version=\"1.0\" encoding=\"UTF-8\"?>\\n<Error xmlns:xsi=\"http://www.w3.org/2001/XMLSchema-instance\" xmlns=\"urn:yahoo:jp:jlp\" xsi:noNamespaceSchemaLocation=\"https://jlp.yahooapis.jp/MAService/V1/error.xsd\">\\n<Message>invalid parameter: filter</Message>\\n</Error>\\n'\n"
     ]
    }
   ],
   "source": [
    "import xml.etree.ElementTree as ET \n",
    "\n",
    "# tree = ET.parse(r.text)\n",
    "tree = r.content\n",
    "root = ET.fromstring(tree)\n",
    "\n",
    "# x = tree.getroot()\n",
    "print(tree)\n",
    "\n",
    "\n",
    "# x = tree.findall('surface')\n",
    "# print(tree)"
   ]
  },
  {
   "cell_type": "code",
   "execution_count": 78,
   "id": "5b792820-f3f7-476c-b5e3-a746ba56dc29",
   "metadata": {},
   "outputs": [
    {
     "ename": "AttributeError",
     "evalue": "'str' object has no attribute 'text'",
     "output_type": "error",
     "traceback": [
      "\u001b[0;31m---------------------------------------------------------------------------\u001b[0m",
      "\u001b[0;31mAttributeError\u001b[0m                            Traceback (most recent call last)",
      "\u001b[0;32m/var/folders/sm/cxsqyhg95x34kj03xss1t3mh0000gn/T/ipykernel_16146/492587833.py\u001b[0m in \u001b[0;36m<module>\u001b[0;34m\u001b[0m\n\u001b[0;32m----> 1\u001b[0;31m \u001b[0;32mfor\u001b[0m \u001b[0mword\u001b[0m \u001b[0;32min\u001b[0m \u001b[0mtree\u001b[0m\u001b[0;34m.\u001b[0m\u001b[0mtext\u001b[0m\u001b[0;34m(\u001b[0m\u001b[0;34m'surface'\u001b[0m\u001b[0;34m)\u001b[0m\u001b[0;34m:\u001b[0m\u001b[0;34m\u001b[0m\u001b[0;34m\u001b[0m\u001b[0m\n\u001b[0m\u001b[1;32m      2\u001b[0m     \u001b[0mprint\u001b[0m\u001b[0;34m(\u001b[0m\u001b[0mword\u001b[0m\u001b[0;34m.\u001b[0m\u001b[0mtext\u001b[0m\u001b[0;34m)\u001b[0m\u001b[0;34m\u001b[0m\u001b[0;34m\u001b[0m\u001b[0m\n\u001b[1;32m      3\u001b[0m     \u001b[0mprint\u001b[0m\u001b[0;34m(\u001b[0m\u001b[0;34m\"kakunin\"\u001b[0m\u001b[0;34m)\u001b[0m\u001b[0;34m\u001b[0m\u001b[0;34m\u001b[0m\u001b[0m\n",
      "\u001b[0;31mAttributeError\u001b[0m: 'str' object has no attribute 'text'"
     ]
    }
   ],
   "source": [
    "for word in tree.iter('surface'):\n",
    "    print(word.text)\n",
    "    print(\"kakunin\")"
   ]
  },
  {
   "cell_type": "code",
   "execution_count": null,
   "id": "b4f3e6e7-44d0-4e9a-8e65-56344cd872e2",
   "metadata": {},
   "outputs": [],
   "source": []
  }
 ],
 "metadata": {
  "kernelspec": {
   "display_name": "Python 3 (ipykernel)",
   "language": "python",
   "name": "python3"
  },
  "language_info": {
   "codemirror_mode": {
    "name": "ipython",
    "version": 3
   },
   "file_extension": ".py",
   "mimetype": "text/x-python",
   "name": "python",
   "nbconvert_exporter": "python",
   "pygments_lexer": "ipython3",
   "version": "3.9.7"
  }
 },
 "nbformat": 4,
 "nbformat_minor": 5
}
