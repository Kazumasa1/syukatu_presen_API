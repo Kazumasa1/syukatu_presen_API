{
 "cells": [
  {
   "cell_type": "code",
   "execution_count": 1,
   "id": "c4a22716-acb3-417c-abb2-5854e685bef6",
   "metadata": {},
   "outputs": [
    {
     "name": "stdout",
     "output_type": "stream",
     "text": [
      "Requirement already satisfied: requests in /Users/genisshou/opt/anaconda3/lib/python3.9/site-packages (2.26.0)\n",
      "Requirement already satisfied: certifi>=2017.4.17 in /Users/genisshou/opt/anaconda3/lib/python3.9/site-packages (from requests) (2021.10.8)\n",
      "Requirement already satisfied: charset-normalizer~=2.0.0 in /Users/genisshou/opt/anaconda3/lib/python3.9/site-packages (from requests) (2.0.4)\n",
      "Requirement already satisfied: idna<4,>=2.5 in /Users/genisshou/opt/anaconda3/lib/python3.9/site-packages (from requests) (3.2)\n",
      "Requirement already satisfied: urllib3<1.27,>=1.21.1 in /Users/genisshou/opt/anaconda3/lib/python3.9/site-packages (from requests) (1.26.7)\n",
      "Note: you may need to restart the kernel to use updated packages.\n"
     ]
    }
   ],
   "source": [
    "pip install requests"
   ]
  },
  {
   "cell_type": "code",
   "execution_count": 18,
   "id": "02f6dee4-f16b-43e9-a082-cf1587caba0c",
   "metadata": {},
   "outputs": [],
   "source": [
    "import APIKEY"
   ]
  },
  {
   "cell_type": "code",
   "execution_count": 135,
   "id": "6508eb12-82fc-427e-85c7-b12c30c3323d",
   "metadata": {},
   "outputs": [
    {
     "data": {
      "text/plain": [
       "'<?xml version=\"1.0\" encoding=\"UTF-8\" ?><ResultSet xmlns:xsi=\"http://www.w3.org/2001/XMLSchema-instance\" xmlns=\"urn:yahoo:jp:jlp\" xsi:schemaLocation=\"urn:yahoo:jp:jlp https://jlp.yahooapis.jp/MAService/V1/parseResponse.xsd\"><ma_result><total_count>9</total_count><filtered_count>6</filtered_count><word_list><word><surface>火</surface></word><word><surface>おんな</surface></word><word><surface>おとこ</surface></word><word><surface>終生</surface></word><word><surface>火</surface></word><word><surface>守る</surface></word></word_list></ma_result></ResultSet>'"
      ]
     },
     "execution_count": 135,
     "metadata": {},
     "output_type": "execute_result"
    }
   ],
   "source": [
    "import requests\n",
    "\n",
    "url = \"https://jlp.yahooapis.jp/MAService/V1/parse\"\n",
    "# pyaload = {\"key1\":\"value1\", \"key2\":\"value2\"}\n",
    "params = {\n",
    "    \"appid\": APIKEY.APIKEY,\n",
    "    \"sentence\": \"火はおんなおとこは終生火を守る\",\n",
    "    # \"sentence\": \"浜名湖川柳コンテスト\",\n",
    "    # \"results\": \"uniq\",\n",
    "    \"response\": \"surface\",\n",
    "    # \"filter\": \"9|10\",\n",
    "}\n",
    "\n",
    "# r = requests.get(url)\n",
    "# r\n",
    "r = requests.get(url, params=params)\n",
    "xml = r.text\n",
    "xml"
   ]
  },
  {
   "cell_type": "code",
   "execution_count": 133,
   "id": "574aee61-325b-40f1-9b6c-2f1860ffc599",
   "metadata": {},
   "outputs": [],
   "source": [
    "from bs4 import BeautifulSoup\n",
    "\n",
    "soup = BeautifulSoup(r.text, 'html.parser')\n",
    "\n",
    "word = soup.find_all('surface')"
   ]
  },
  {
   "cell_type": "code",
   "execution_count": 134,
   "id": "b5624e01-0c3d-40b7-a838-43d4b654ca1d",
   "metadata": {},
   "outputs": [
    {
     "name": "stdout",
     "output_type": "stream",
     "text": [
      "浜名湖\n",
      "川柳\n",
      "コンテスト\n"
     ]
    }
   ],
   "source": [
    "for text in range(len(word)):\n",
    "    print(word[text].text)"
   ]
  },
  {
   "cell_type": "code",
   "execution_count": 128,
   "id": "18b85eba-997c-401a-a08d-a9c6614db891",
   "metadata": {},
   "outputs": [
    {
     "name": "stdout",
     "output_type": "stream",
     "text": [
      "b'<?xml version=\"1.0\" encoding=\"UTF-8\"?>\\n<Error xmlns:xsi=\"http://www.w3.org/2001/XMLSchema-instance\" xmlns=\"urn:yahoo:jp:jlp\" xsi:noNamespaceSchemaLocation=\"https://jlp.yahooapis.jp/MAService/V1/error.xsd\">\\n<Message>invalid parameter: filter</Message>\\n</Error>\\n'\n"
     ]
    }
   ],
   "source": [
    "import xml.etree.ElementTree as ET \n",
    "\n",
    "# tree = ET.parse(r.text)\n",
    "tree = r.content\n",
    "root = ET.fromstring(tree)\n",
    "\n",
    "# x = tree.getroot()\n",
    "print(tree)\n",
    "\n",
    "\n",
    "# x = tree.findall('surface')\n",
    "# print(tree)"
   ]
  },
  {
   "cell_type": "code",
   "execution_count": 78,
   "id": "5b792820-f3f7-476c-b5e3-a746ba56dc29",
   "metadata": {},
   "outputs": [
    {
     "ename": "AttributeError",
     "evalue": "'str' object has no attribute 'text'",
     "output_type": "error",
     "traceback": [
      "\u001b[0;31m---------------------------------------------------------------------------\u001b[0m",
      "\u001b[0;31mAttributeError\u001b[0m                            Traceback (most recent call last)",
      "\u001b[0;32m/var/folders/sm/cxsqyhg95x34kj03xss1t3mh0000gn/T/ipykernel_16146/492587833.py\u001b[0m in \u001b[0;36m<module>\u001b[0;34m\u001b[0m\n\u001b[0;32m----> 1\u001b[0;31m \u001b[0;32mfor\u001b[0m \u001b[0mword\u001b[0m \u001b[0;32min\u001b[0m \u001b[0mtree\u001b[0m\u001b[0;34m.\u001b[0m\u001b[0mtext\u001b[0m\u001b[0;34m(\u001b[0m\u001b[0;34m'surface'\u001b[0m\u001b[0;34m)\u001b[0m\u001b[0;34m:\u001b[0m\u001b[0;34m\u001b[0m\u001b[0;34m\u001b[0m\u001b[0m\n\u001b[0m\u001b[1;32m      2\u001b[0m     \u001b[0mprint\u001b[0m\u001b[0;34m(\u001b[0m\u001b[0mword\u001b[0m\u001b[0;34m.\u001b[0m\u001b[0mtext\u001b[0m\u001b[0;34m)\u001b[0m\u001b[0;34m\u001b[0m\u001b[0;34m\u001b[0m\u001b[0m\n\u001b[1;32m      3\u001b[0m     \u001b[0mprint\u001b[0m\u001b[0;34m(\u001b[0m\u001b[0;34m\"kakunin\"\u001b[0m\u001b[0;34m)\u001b[0m\u001b[0;34m\u001b[0m\u001b[0;34m\u001b[0m\u001b[0m\n",
      "\u001b[0;31mAttributeError\u001b[0m: 'str' object has no attribute 'text'"
     ]
    }
   ],
   "source": [
    "for word in tree.iter('surface'):\n",
    "    print(word.text)\n",
    "    print(\"kakunin\")"
   ]
  },
  {
   "cell_type": "code",
   "execution_count": null,
   "id": "b4f3e6e7-44d0-4e9a-8e65-56344cd872e2",
   "metadata": {},
   "outputs": [],
   "source": []
  }
 ],
 "metadata": {
  "kernelspec": {
   "display_name": "Python 3 (ipykernel)",
   "language": "python",
   "name": "python3"
  },
  "language_info": {
   "codemirror_mode": {
    "name": "ipython",
    "version": 3
   },
   "file_extension": ".py",
   "mimetype": "text/x-python",
   "name": "python",
   "nbconvert_exporter": "python",
   "pygments_lexer": "ipython3",
   "version": "3.9.7"
  }
 },
 "nbformat": 4,
 "nbformat_minor": 5
}
