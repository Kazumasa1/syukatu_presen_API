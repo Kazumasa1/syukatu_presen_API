{
 "cells": [
  {
   "cell_type": "code",
   "execution_count": 1,
   "id": "c4a22716-acb3-417c-abb2-5854e685bef6",
   "metadata": {},
   "outputs": [
    {
     "name": "stdout",
     "output_type": "stream",
     "text": [
      "Requirement already satisfied: requests in /Users/genisshou/opt/anaconda3/lib/python3.9/site-packages (2.26.0)\n",
      "Requirement already satisfied: certifi>=2017.4.17 in /Users/genisshou/opt/anaconda3/lib/python3.9/site-packages (from requests) (2021.10.8)\n",
      "Requirement already satisfied: charset-normalizer~=2.0.0 in /Users/genisshou/opt/anaconda3/lib/python3.9/site-packages (from requests) (2.0.4)\n",
      "Requirement already satisfied: idna<4,>=2.5 in /Users/genisshou/opt/anaconda3/lib/python3.9/site-packages (from requests) (3.2)\n",
      "Requirement already satisfied: urllib3<1.27,>=1.21.1 in /Users/genisshou/opt/anaconda3/lib/python3.9/site-packages (from requests) (1.26.7)\n",
      "Note: you may need to restart the kernel to use updated packages.\n"
     ]
    }
   ],
   "source": [
    "pip install requests"
   ]
  },
  {
   "cell_type": "code",
   "execution_count": 18,
   "id": "02f6dee4-f16b-43e9-a082-cf1587caba0c",
   "metadata": {},
   "outputs": [],
   "source": [
    "import APIKEY"
   ]
  },
  {
   "cell_type": "code",
   "execution_count": 19,
   "id": "25a1c5af-b1dc-4878-a349-58978dd02e98",
   "metadata": {},
   "outputs": [],
   "source": [
    "import requests\n",
    "\n",
    "url = \"https://jlp.yahooapis.jp/MAService/V1/parse\"\n",
    "# pyaload = {\"key1\":\"value1\", \"key2\":\"value2\"}\n",
    "params = {\n",
    "    \"appid\": APIKEY.APIKEY,\n",
    "    \"sentence\": \"火はおんなおとこは終生火を守る\",\n",
    "    \"response\": \"surface,pos\",\n",
    "}\n",
    "\n",
    "# r = requests.get(url)\n",
    "# r\n",
    "r = requests.get(url, params=params)"
   ]
  },
  {
   "cell_type": "code",
   "execution_count": 20,
   "id": "3e06fbbf-11f9-4668-8134-1f2c156d0a1c",
   "metadata": {},
   "outputs": [
    {
     "data": {
      "text/plain": [
       "'<?xml version=\"1.0\" encoding=\"UTF-8\" ?><ResultSet xmlns:xsi=\"http://www.w3.org/2001/XMLSchema-instance\" xmlns=\"urn:yahoo:jp:jlp\" xsi:schemaLocation=\"urn:yahoo:jp:jlp https://jlp.yahooapis.jp/MAService/V1/parseResponse.xsd\"><ma_result><total_count>9</total_count><filtered_count>9</filtered_count><word_list><word><surface>火</surface><pos>名詞</pos></word><word><surface>は</surface><pos>助詞</pos></word><word><surface>おんな</surface><pos>名詞</pos></word><word><surface>おとこ</surface><pos>名詞</pos></word><word><surface>は</surface><pos>助詞</pos></word><word><surface>終生</surface><pos>名詞</pos></word><word><surface>火</surface><pos>名詞</pos></word><word><surface>を</surface><pos>助詞</pos></word><word><surface>守る</surface><pos>動詞</pos></word></word_list></ma_result></ResultSet>'"
      ]
     },
     "execution_count": 20,
     "metadata": {},
     "output_type": "execute_result"
    }
   ],
   "source": [
    "r.text"
   ]
  },
  {
   "cell_type": "code",
   "execution_count": null,
   "id": "3845688c-0844-4208-9d7e-89e50cff75d1",
   "metadata": {},
   "outputs": [],
   "source": []
  }
 ],
 "metadata": {
  "kernelspec": {
   "display_name": "Python 3 (ipykernel)",
   "language": "python",
   "name": "python3"
  },
  "language_info": {
   "codemirror_mode": {
    "name": "ipython",
    "version": 3
   },
   "file_extension": ".py",
   "mimetype": "text/x-python",
   "name": "python",
   "nbconvert_exporter": "python",
   "pygments_lexer": "ipython3",
   "version": "3.9.7"
  }
 },
 "nbformat": 4,
 "nbformat_minor": 5
}
